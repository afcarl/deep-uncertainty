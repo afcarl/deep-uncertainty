{
 "cells": [
  {
   "cell_type": "markdown",
   "metadata": {},
   "source": [
    "# Guided ReLu"
   ]
  },
  {
   "cell_type": "code",
   "execution_count": 1,
   "metadata": {
    "ExecuteTime": {
     "end_time": "2017-12-17T15:20:02.274764Z",
     "start_time": "2017-12-17T15:20:01.891451Z"
    }
   },
   "outputs": [
    {
     "name": "stdout",
     "output_type": "stream",
     "text": [
      "Packages loaded\n"
     ]
    }
   ],
   "source": [
    "import tensorflow as tf\n",
    "from tensorflow.python.framework import ops\n",
    "from tensorflow.python.ops import gen_nn_ops\n",
    "print (\"Packages loaded\")"
   ]
  },
  {
   "cell_type": "markdown",
   "metadata": {},
   "source": [
    "Guided ReLu"
   ]
  },
  {
   "cell_type": "code",
   "execution_count": 2,
   "metadata": {
    "ExecuteTime": {
     "end_time": "2017-12-17T15:20:02.278713Z",
     "start_time": "2017-12-17T15:20:02.275933Z"
    },
    "collapsed": true
   },
   "outputs": [],
   "source": [
    "@ops.RegisterGradient(\"GuidedRelu\")\n",
    "def _GuidedReluGrad(op, grad):\n",
    "    return tf.where(0. < grad, \n",
    "                     gen_nn_ops._relu_grad(grad, op.outputs[0]), \n",
    "                     tf.zeros(grad.get_shape()))"
   ]
  },
  {
   "cell_type": "markdown",
   "metadata": {},
   "source": [
    "Original function"
   ]
  },
  {
   "cell_type": "markdown",
   "metadata": {},
   "source": [
    "$z = -relu(x_1)^2 -relu(x_2)^2$"
   ]
  },
  {
   "cell_type": "markdown",
   "metadata": {},
   "source": [
    "Partial derivative"
   ]
  },
  {
   "cell_type": "markdown",
   "metadata": {},
   "source": [
    "$\\frac{\\partial z}{\\partial x_1} = -2 x_1 \\text{ if } (x_1 > 0) \\text{ and } 0 \\text{ otherwise} $"
   ]
  },
  {
   "cell_type": "markdown",
   "metadata": {},
   "source": [
    "### With Guided ReLu"
   ]
  },
  {
   "cell_type": "code",
   "execution_count": 3,
   "metadata": {
    "ExecuteTime": {
     "end_time": "2017-12-17T15:20:02.533148Z",
     "start_time": "2017-12-17T15:20:02.279665Z"
    }
   },
   "outputs": [
    {
     "name": "stdout",
     "output_type": "stream",
     "text": [
      "x:[-2.  2.] y:[ 0.  2.] z:-4.0\n",
      "grad_{x}z:[ 0.  0.]\n"
     ]
    }
   ],
   "source": [
    "with tf.Session() as sess:\n",
    "    g = tf.get_default_graph()\n",
    "    x = tf.constant([-2., 2.])\n",
    "    with g.gradient_override_map({'Relu': 'GuidedRelu'}):\n",
    "        y = tf.nn.relu(x)\n",
    "        z = tf.reduce_sum(-y ** 2) \n",
    "    tf.global_variables_initializer().run()\n",
    "    print (\"x:%s y:%s z:%s\" % (x.eval(), y.eval(), z.eval()))\n",
    "    print (\"grad_{x}z:%s\"%(tf.gradients(z, x)[0].eval()))"
   ]
  },
  {
   "cell_type": "markdown",
   "metadata": {},
   "source": [
    "### Without Guided ReLu"
   ]
  },
  {
   "cell_type": "code",
   "execution_count": 4,
   "metadata": {
    "ExecuteTime": {
     "end_time": "2017-12-17T15:20:02.559183Z",
     "start_time": "2017-12-17T15:20:02.534208Z"
    }
   },
   "outputs": [
    {
     "name": "stdout",
     "output_type": "stream",
     "text": [
      "x:[-2.  2.] y:[ 0.  2.] z:-4.0\n",
      "grad_{x}z:[-0. -4.]\n"
     ]
    }
   ],
   "source": [
    "with tf.Session() as sess:\n",
    "    g = tf.get_default_graph()\n",
    "    x = tf.constant([-2., 2.])\n",
    "    if 1:\n",
    "        y = tf.nn.relu(x)\n",
    "        z = tf.reduce_sum(-y ** 2) \n",
    "    tf.global_variables_initializer().run()\n",
    "    print (\"x:%s y:%s z:%s\" % (x.eval(), y.eval(), z.eval()))\n",
    "    print (\"grad_{x}z:%s\"%(tf.gradients(z, x)[0].eval()))"
   ]
  },
  {
   "cell_type": "code",
   "execution_count": null,
   "metadata": {
    "collapsed": true
   },
   "outputs": [],
   "source": []
  }
 ],
 "metadata": {
  "kernelspec": {
   "display_name": "Python 2",
   "language": "python",
   "name": "python2"
  },
  "language_info": {
   "codemirror_mode": {
    "name": "ipython",
    "version": 2
   },
   "file_extension": ".py",
   "mimetype": "text/x-python",
   "name": "python",
   "nbconvert_exporter": "python",
   "pygments_lexer": "ipython2",
   "version": "2.7.12"
  },
  "varInspector": {
   "cols": {
    "lenName": 16,
    "lenType": 16,
    "lenVar": 40
   },
   "kernels_config": {
    "python": {
     "delete_cmd_postfix": "",
     "delete_cmd_prefix": "del ",
     "library": "var_list.py",
     "varRefreshCmd": "print(var_dic_list())"
    },
    "r": {
     "delete_cmd_postfix": ") ",
     "delete_cmd_prefix": "rm(",
     "library": "var_list.r",
     "varRefreshCmd": "cat(var_dic_list()) "
    }
   },
   "types_to_exclude": [
    "module",
    "function",
    "builtin_function_or_method",
    "instance",
    "_Feature"
   ],
   "window_display": false
  }
 },
 "nbformat": 4,
 "nbformat_minor": 2
}
