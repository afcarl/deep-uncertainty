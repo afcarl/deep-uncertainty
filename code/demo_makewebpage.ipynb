{
 "cells": [
  {
   "cell_type": "markdown",
   "metadata": {},
   "source": [
    "# Make webpage"
   ]
  },
  {
   "cell_type": "code",
   "execution_count": 1,
   "metadata": {
    "ExecuteTime": {
     "end_time": "2017-12-21T04:47:13.035574Z",
     "start_time": "2017-12-21T04:47:12.958312Z"
    }
   },
   "outputs": [
    {
     "name": "stdout",
     "output_type": "stream",
     "text": [
      "Packages loaded\n"
     ]
    }
   ],
   "source": [
    "import os,scipy.misc\n",
    "import numpy as np\n",
    "from glob import glob\n",
    "\n",
    "\n",
    "print (\"Packages loaded\")"
   ]
  },
  {
   "cell_type": "markdown",
   "metadata": {},
   "source": [
    "Util"
   ]
  },
  {
   "cell_type": "code",
   "execution_count": 2,
   "metadata": {
    "ExecuteTime": {
     "end_time": "2017-12-21T04:47:13.077292Z",
     "start_time": "2017-12-21T04:47:13.038209Z"
    },
    "collapsed": true
   },
   "outputs": [],
   "source": [
    "\"\"\" Read image (gray or rgb) with float (0.0~255.0) \"\"\"\n",
    "def imread_float(path, is_grayscale = False):\n",
    "    if (is_grayscale):\n",
    "        return scipy.misc.imread(path, flatten=True).astype(np.float)\n",
    "    else:\n",
    "        return scipy.misc.imread(path, mode='RGB').astype(np.float)"
   ]
  },
  {
   "cell_type": "markdown",
   "metadata": {},
   "source": [
    "Make html"
   ]
  },
  {
   "cell_type": "code",
   "execution_count": 3,
   "metadata": {
    "ExecuteTime": {
     "end_time": "2017-12-21T04:47:13.613322Z",
     "start_time": "2017-12-21T04:47:13.078163Z"
    }
   },
   "outputs": [
    {
     "name": "stdout",
     "output_type": "stream",
     "text": [
      "dog-kitten ./html/dog-kitten_rgb_rsz.png ./html/dog-kitten_gray_rsz.png\n",
      "dogcat ./html/dogcat_rgb_rsz.png ./html/dogcat_gray_rsz.png\n",
      "zootopia ./html/zootopia_rgb_rsz.png ./html/zootopia_gray_rsz.png\n",
      "[./demo_page.html] generaged\n"
     ]
    }
   ],
   "source": [
    "# html name\n",
    "html_name = 'demo_page'\n",
    "# path to save images for html\n",
    "path2save = './html'\n",
    "if not os.path.exists(path2save): os.makedirs(path2save) \n",
    "imgpaths = glob('./img/*.jpg')\n",
    "index_path = os.path.join(('./%s.html'%(html_name)))\n",
    "index = open(index_path, \"w\")\n",
    "index.write(\"<html><body><table><tr>\")\n",
    "index.write(\"<th> name </th><th> RGB </th><th> Gray </th></tr>\")\n",
    "for idx,imgpath in enumerate(imgpaths):\n",
    "    # read image\n",
    "    imgraw = imread_float(imgpath,is_grayscale=False)\n",
    "    imggray = imread_float(imgpath,is_grayscale=True)\n",
    "    # save rgb image \n",
    "    name = os.path.splitext(os.path.basename(imgpath))[0]\n",
    "    imgpath2save_rgb = os.path.join(path2save, '%s_rgb_rsz.png'%(name))\n",
    "    scipy.misc.imsave(imgpath2save_rgb,scipy.misc.imresize(imgraw, [256,256]))\n",
    "    # save gray image\n",
    "    imgpath2save_gray = os.path.join(path2save, '%s_gray_rsz.png'%(name))\n",
    "    scipy.misc.imsave(imgpath2save_gray,scipy.misc.imresize(imggray, [256,256]))\n",
    "    print name,imgpath2save_rgb,imgpath2save_gray\n",
    "    # write to html\n",
    "    index.write(\"<td>%s</td>\" % os.path.basename(name))\n",
    "    index.write(\"<td><img src='%s'></td>\" % (imgpath2save_rgb))\n",
    "    index.write(\"<td><img src='%s'></td>\" % (imgpath2save_gray))\n",
    "    index.write(\"</tr>\")\n",
    "index.close()\n",
    "print (\"[%s] generaged\"%(index_path))"
   ]
  },
  {
   "cell_type": "code",
   "execution_count": null,
   "metadata": {
    "collapsed": true
   },
   "outputs": [],
   "source": []
  }
 ],
 "metadata": {
  "kernelspec": {
   "display_name": "Python 2",
   "language": "python",
   "name": "python2"
  },
  "language_info": {
   "codemirror_mode": {
    "name": "ipython",
    "version": 2
   },
   "file_extension": ".py",
   "mimetype": "text/x-python",
   "name": "python",
   "nbconvert_exporter": "python",
   "pygments_lexer": "ipython2",
   "version": "2.7.12"
  },
  "varInspector": {
   "cols": {
    "lenName": 16,
    "lenType": 16,
    "lenVar": 40
   },
   "kernels_config": {
    "python": {
     "delete_cmd_postfix": "",
     "delete_cmd_prefix": "del ",
     "library": "var_list.py",
     "varRefreshCmd": "print(var_dic_list())"
    },
    "r": {
     "delete_cmd_postfix": ") ",
     "delete_cmd_prefix": "rm(",
     "library": "var_list.r",
     "varRefreshCmd": "cat(var_dic_list()) "
    }
   },
   "types_to_exclude": [
    "module",
    "function",
    "builtin_function_or_method",
    "instance",
    "_Feature"
   ],
   "window_display": false
  }
 },
 "nbformat": 4,
 "nbformat_minor": 2
}
